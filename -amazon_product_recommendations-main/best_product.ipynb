{
 "cells": [
  {
   "cell_type": "code",
   "execution_count": null,
   "metadata": {},
   "outputs": [],
   "source": []
  },
  {
   "cell_type": "code",
   "execution_count": 1,
   "metadata": {},
   "outputs": [],
   "source": [
    "from transformers import AutoTokenizer\n",
    "from transformers import AutoModelForSequenceClassification\n",
    "from scipy.special import softmax"
   ]
  },
  {
   "cell_type": "code",
   "execution_count": 2,
   "metadata": {},
   "outputs": [],
   "source": [
    "MODEL=\"cardiffnlp/twitter-roberta-base-sentiment\""
   ]
  },
  {
   "cell_type": "code",
   "execution_count": 3,
   "metadata": {},
   "outputs": [
    {
     "name": "stderr",
     "output_type": "stream",
     "text": [
      "c:\\Users\\udayg\\AppData\\Local\\Programs\\Python\\Python311\\Lib\\site-packages\\torch\\_utils.py:776: UserWarning: TypedStorage is deprecated. It will be removed in the future and UntypedStorage will be the only storage class. This should only matter to you if you are using storages directly.  To access UntypedStorage directly, use tensor.untyped_storage() instead of tensor.storage()\n",
      "  return self.fget.__get__(instance, owner)()\n"
     ]
    }
   ],
   "source": [
    "tokenizer=AutoTokenizer.from_pretrained(MODEL)\n",
    "model=AutoModelForSequenceClassification.from_pretrained(MODEL)"
   ]
  },
  {
   "cell_type": "code",
   "execution_count": 4,
   "metadata": {},
   "outputs": [],
   "source": [
    "def result(example):\n",
    "    text=tokenizer(example,return_tensors='pt')\n",
    "    output=model(**text)\n",
    "    scores=output[0][0].detach().numpy()\n",
    "    score=softmax(scores)\n",
    "    return score\n"
   ]
  },
  {
   "cell_type": "code",
   "execution_count": 7,
   "metadata": {},
   "outputs": [],
   "source": [
    "import json\n",
    "with open('product_details_with_reviews.json', 'r') as file:\n",
    "    data = json.load(file)"
   ]
  },
  {
   "cell_type": "code",
   "execution_count": 8,
   "metadata": {},
   "outputs": [
    {
     "name": "stdout",
     "output_type": "stream",
     "text": [
      "[array([0.00189828, 0.02640971, 0.97169197], dtype=float32), array([0.00147565, 0.0068026 , 0.9917217 ], dtype=float32), array([0.00894148, 0.05824492, 0.9328136 ], dtype=float32), array([0.04705564, 0.2558488 , 0.6970956 ], dtype=float32), array([0.04705564, 0.2558488 , 0.6970956 ], dtype=float32)] ['1,39,999', '16,999', '6,999', '8,499', '7,699'] ['4.4 out of 5 stars', '3.7 out of 5 stars', '4.0 out of 5 stars', '4.1 out of 5 stars', '4.1 out of 5 stars'] ['Samsung Galaxy S24 Ultra 5G AI Smartphone (Titanium Black, 12GB, 512GB Storage)', 'Redmi Note 13 5G (Arctic White, 6GB RAM, 128GB Storage) | 5G Ready | 120Hz Bezel-Less AMOLED | 7.mm Slimmest Note Ever | 108MP Pro-Grade Camera', 'POCO C65 (Matte Black 4GB RAM 128GB Storage)', 'Redmi 13C (Stardust Black, 6GB RAM, 128GB Storage) | Powered by 4G MediaTek Helio G85 | 90Hz Display | 50MP AI Triple Camera', 'Redmi 13C (Starshine Green, 4GB RAM, 128GB Storage) | Powered by 4G MediaTek Helio G85 | 90Hz Display | 50MP AI Triple Camera']\n"
     ]
    }
   ],
   "source": [
    "def remove_surrogates(text):\n",
    "    return text.encode('utf-16', 'surrogatepass').decode('utf-16')\n",
    "rating_list = []\n",
    "title_list = []\n",
    "price_list = []\n",
    "polarity_scores=[]\n",
    "for item in data:\n",
    "    if 'reviews' in item:\n",
    "        reviews = item['reviews']\n",
    "        for review in reviews:\n",
    "            clean_text = remove_surrogates(review)\n",
    "        polarity_scores.append(result(clean_text))\n",
    "    if 'price' in item:\n",
    "        price = item['price']\n",
    "        price_list.append(price)\n",
    "\n",
    "    if 'rating' in item:\n",
    "        rating = item['rating']\n",
    "        rating_list.append(rating)  \n",
    "    if 'title' in item:\n",
    "        title = item['title']\n",
    "        title_list.append(title)    \n",
    "\n",
    "\n",
    "            \n",
    "print(polarity_scores,price_list,rating_list,title_list)"
   ]
  },
  {
   "cell_type": "code",
   "execution_count": 9,
   "metadata": {},
   "outputs": [
    {
     "name": "stdout",
     "output_type": "stream",
     "text": [
      "[139999, 16999, 6999, 8499, 7699]\n",
      "The product with the highest score is: POCO C65 (Matte Black 4GB RAM 128GB Storage) with a score of 1.9695488452911378\n"
     ]
    }
   ],
   "source": [
    "price_list_int = []\n",
    "for price in price_list:\n",
    "    price=int(price.replace(',', ''))\n",
    "    price_list_int.append(price)\n",
    "print(price_list_int)\n",
    "min_price = min(price_list_int)\n",
    "max_price = max(price_list_int)\n",
    "final_dict = {}\n",
    "for i in range(len(title_list)):\n",
    "        rating = float(rating_list[i].split()[0])\n",
    "\n",
    "        result = (0.4 * rating -\n",
    "                  0.2 * (price_list_int[i] - min_price) / (max_price - min_price) +\n",
    "                  0.4 * (polarity_scores[i][2] - polarity_scores[i][0]))\n",
    "        \n",
    "        final_dict[title_list[i]] = result\n",
    "\n",
    "\n",
    "highest_key = None\n",
    "highest_value = -100 \n",
    "\n",
    "for key, value in final_dict.items():\n",
    "    if value > highest_value:\n",
    "        highest_value = value\n",
    "        highest_key = key\n",
    "\n",
    "\n",
    "print(f\"The product with the highest score is: {highest_key} with a score of {highest_value}\")\n",
    "\n"
   ]
  },
  {
   "cell_type": "code",
   "execution_count": null,
   "metadata": {},
   "outputs": [],
   "source": []
  }
 ],
 "metadata": {
  "kernelspec": {
   "display_name": "Python 3",
   "language": "python",
   "name": "python3"
  },
  "language_info": {
   "codemirror_mode": {
    "name": "ipython",
    "version": 3
   },
   "file_extension": ".py",
   "mimetype": "text/x-python",
   "name": "python",
   "nbconvert_exporter": "python",
   "pygments_lexer": "ipython3",
   "version": "3.11.7"
  }
 },
 "nbformat": 4,
 "nbformat_minor": 2
}
