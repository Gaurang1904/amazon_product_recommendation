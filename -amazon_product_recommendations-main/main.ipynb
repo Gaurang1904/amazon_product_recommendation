{
 "cells": [
  {
   "cell_type": "code",
   "execution_count": 13,
   "metadata": {},
   "outputs": [],
   "source": [
    "import nltk"
   ]
  },
  {
   "cell_type": "code",
   "execution_count": 14,
   "metadata": {},
   "outputs": [],
   "source": [
    "example='vsd is good boy and i love to work with him'"
   ]
  },
  {
   "cell_type": "code",
   "execution_count": 15,
   "metadata": {},
   "outputs": [
    {
     "name": "stdout",
     "output_type": "stream",
     "text": [
      "['vsd', 'is', 'good', 'boy', 'and', 'i', 'love', 'to', 'work', 'with', 'him']\n"
     ]
    }
   ],
   "source": [
    "tokens=nltk.word_tokenize(example)\n",
    "print(tokens)"
   ]
  },
  {
   "cell_type": "code",
   "execution_count": 16,
   "metadata": {},
   "outputs": [
    {
     "name": "stdout",
     "output_type": "stream",
     "text": [
      "[('vsd', 'NN'), ('is', 'VBZ'), ('good', 'JJ'), ('boy', 'NN'), ('and', 'CC'), ('i', 'JJ'), ('love', 'NN'), ('to', 'TO'), ('work', 'VB'), ('with', 'IN'), ('him', 'PRP')]\n"
     ]
    }
   ],
   "source": [
    "tagged=nltk.pos_tag(tokens)\n",
    "print(tagged)"
   ]
  },
  {
   "cell_type": "code",
   "execution_count": 17,
   "metadata": {},
   "outputs": [
    {
     "name": "stderr",
     "output_type": "stream",
     "text": [
      "[nltk_data] Downloading package maxent_ne_chunker to\n",
      "[nltk_data]     C:\\Users\\udayg\\AppData\\Roaming\\nltk_data...\n",
      "[nltk_data]   Package maxent_ne_chunker is already up-to-date!\n",
      "[nltk_data] Downloading package words to\n",
      "[nltk_data]     C:\\Users\\udayg\\AppData\\Roaming\\nltk_data...\n",
      "[nltk_data]   Package words is already up-to-date!\n"
     ]
    },
    {
     "name": "stdout",
     "output_type": "stream",
     "text": [
      "(S\n",
      "  vsd/NN\n",
      "  is/VBZ\n",
      "  good/JJ\n",
      "  boy/NN\n",
      "  and/CC\n",
      "  i/JJ\n",
      "  love/NN\n",
      "  to/TO\n",
      "  work/VB\n",
      "  with/IN\n",
      "  him/PRP)\n"
     ]
    }
   ],
   "source": [
    "nltk.download('maxent_ne_chunker')\n",
    "nltk.download('words')\n",
    "entities=nltk.chunk.ne_chunk(tagged)\n",
    "entities.pprint()"
   ]
  },
  {
   "cell_type": "code",
   "execution_count": 18,
   "metadata": {},
   "outputs": [],
   "source": [
    "from nltk.sentiment import SentimentIntensityAnalyzer"
   ]
  },
  {
   "cell_type": "code",
   "execution_count": 19,
   "metadata": {},
   "outputs": [],
   "source": [
    "sia=SentimentIntensityAnalyzer()"
   ]
  },
  {
   "cell_type": "code",
   "execution_count": 20,
   "metadata": {},
   "outputs": [
    {
     "data": {
      "text/plain": [
       "{'neg': 0.0, 'neu': 0.53, 'pos': 0.47, 'compound': 0.7964}"
      ]
     },
     "execution_count": 20,
     "metadata": {},
     "output_type": "execute_result"
    }
   ],
   "source": [
    "sia.polarity_scores(example)"
   ]
  },
  {
   "cell_type": "code",
   "execution_count": null,
   "metadata": {},
   "outputs": [],
   "source": []
  },
  {
   "cell_type": "code",
   "execution_count": 21,
   "metadata": {},
   "outputs": [],
   "source": [
    "from transformers import AutoTokenizer\n",
    "from transformers import AutoModelForSequenceClassification"
   ]
  },
  {
   "cell_type": "code",
   "execution_count": 22,
   "metadata": {},
   "outputs": [],
   "source": [
    "from scipy.special import softmax"
   ]
  },
  {
   "cell_type": "code",
   "execution_count": 23,
   "metadata": {},
   "outputs": [],
   "source": [
    "MODEL=\"cardiffnlp/twitter-roberta-base-sentiment\""
   ]
  },
  {
   "cell_type": "code",
   "execution_count": 24,
   "metadata": {},
   "outputs": [],
   "source": [
    "tokenizer=AutoTokenizer.from_pretrained(MODEL)\n",
    "model=AutoModelForSequenceClassification.from_pretrained(MODEL)"
   ]
  },
  {
   "cell_type": "code",
   "execution_count": 25,
   "metadata": {},
   "outputs": [],
   "source": [
    "example= '''I like it most redmi note 12 pro +5g\",\n",
    "      \"It's very amazing\",\n",
    "      \"Overall good phone. But it has its usual miui bugs. Could've given lpddr5 Ram and ufs 3.1 storage and a snapdragon processor.. Would've demolished competitor brands then at this price range. Redmi note series always tries to imitate iPhone design.. But even though this phone tries to look like the latest iPhone, it's still an eye catching design. Stereo speakers are one of the best I've seen in smartphones.. Dolby Atmos is an added bonus that's it.. Pwm dimming really helps.. There's no more eye straining even after long hours of viewing.. Don't expect much from camera.. It's not upto the mark for the price they're charging. Not the phone for heavy gamers.. But it gives a very good multimedia experience with the speakers and display.. It's an apt phone for a normal user wanting to upgrade.. But for above average user, save up some money and buy Samsung, OnePlus or any other company.\",\n",
    "      \"After three months of continuous use, this mobile phone and its camera are not satisfactory.\\nCompany claims to have a 200 megapixel camera but after trying it in various ways it doesn't seem to get that kind of a result and the screen rotation feature and some other features don't seem to be working properly.\\ud83d\\ude4f\\ud83c\\udffc\\ud83d\\ude13\",\n",
    "      \"Battery drainage and hitting issue\",\n",
    "      \"Front camera is not goood. Avoid for front camera else is ok.\",\n",
    "      \"The product is really good but battery backup could be better.\",\n",
    "      \"It overheats while playing the game BGMI(PUBG), it says it has a cooling chamber, but it's not working....\\nRemaining all fine'''"
   ]
  },
  {
   "cell_type": "code",
   "execution_count": 26,
   "metadata": {},
   "outputs": [],
   "source": [
    "def result(example):\n",
    "    text=tokenizer(example,return_tensors='pt')\n",
    "    output=model(**text)\n",
    "    scores=output[0][0].detach().numpy()\n",
    "    score=softmax(scores)\n",
    "    return score\n"
   ]
  },
  {
   "cell_type": "code",
   "execution_count": 27,
   "metadata": {},
   "outputs": [],
   "source": [
    "example_2=  '''\n",
    "  \"I order this phone a day ago and found a dead spot on the screen. After calling them; they suggested to visit Samsung service center as it has clearly mentioned that the product has 7 Days of service center replacement warranty(A Big Scam). I reached to the service centre and waited for around more than 2 hrs for my turn to come and finally they simply denied to give any kind of service for refurbished products from the Amazon. Finally my suggestion is not to fall in these kind of fake assurance. I have raised a complaint on consumer forum for the same.\",\n",
    "  \"The Samsung service is poor, the terms and conditions regarding warranty are not adhered to. The company attributes the difective screen issue on mishandling on the part of customer, thereby charging huge bill for such repairs, that too in warranty period.\n",
    "\"\n",
    "'''"
   ]
  },
  {
   "cell_type": "code",
   "execution_count": 28,
   "metadata": {},
   "outputs": [
    {
     "name": "stdout",
     "output_type": "stream",
     "text": [
      "[0.9330508  0.06157485 0.00537428]\n"
     ]
    }
   ],
   "source": [
    "print(result(example_2))"
   ]
  },
  {
   "cell_type": "code",
   "execution_count": 29,
   "metadata": {},
   "outputs": [],
   "source": [
    "# import numpy\n",
    "# reviews_1=score[2]- score[0]\n",
    "# ratings_1 =4.2/5\n",
    "# price_1=27000\n",
    "# reviews_2=score3[2]-score3[0]\n",
    "# ratings_2=2/5\n",
    "# price_2=94000\n",
    "# # reviews_1=reviews_1.astype(numpy.int64)\n",
    "# # reviews_2=reviews_2.astype(numpy.int64)\n",
    "\n",
    "# normalised_price_1=(price_1-min(price_1,price_2))/(max(price_1,price_2)-min(price_1,price_2))\n",
    "# normalised_price_2=(price_2-min(price_1,price_2))/(max(price_1,price_2)-min(price_1,price_2))\n",
    "# result1= 0.4*ratings_1 - 0.2*normalised_price_1 + 0.4*reviews_1\n",
    "# result2= 0.4*ratings_2 - 0.2*normalised_price_2 + 0.4*reviews_2\n",
    "# print(result1)\n",
    "# print(result2)"
   ]
  },
  {
   "cell_type": "code",
   "execution_count": 30,
   "metadata": {},
   "outputs": [],
   "source": [
    "import json\n",
    "with open('product_details.json', 'r') as file:\n",
    "    data = json.load(file)"
   ]
  },
  {
   "cell_type": "code",
   "execution_count": 31,
   "metadata": {},
   "outputs": [
    {
     "name": "stdout",
     "output_type": "stream",
     "text": [
      "[] ['1,39,999', '16,999', '6,999', '8,499', '7,699'] ['4.4 out of 5 stars', '3.7 out of 5 stars', '4.0 out of 5 stars', '4.1 out of 5 stars', '4.1 out of 5 stars'] ['Samsung Galaxy S24 Ultra 5G AI Smartphone (Titanium Black, 12GB, 512GB Storage)', 'Redmi Note 13 5G (Arctic White, 6GB RAM, 128GB Storage) | 5G Ready | 120Hz Bezel-Less AMOLED | 7.mm Slimmest Note Ever | 108MP Pro-Grade Camera', 'POCO C65 (Matte Black 4GB RAM 128GB Storage)', 'Redmi 13C (Stardust Black, 6GB RAM, 128GB Storage) | Powered by 4G MediaTek Helio G85 | 90Hz Display | 50MP AI Triple Camera', 'Redmi 13C (Starshine Green, 4GB RAM, 128GB Storage) | Powered by 4G MediaTek Helio G85 | 90Hz Display | 50MP AI Triple Camera']\n"
     ]
    }
   ],
   "source": [
    "def remove_surrogates(text):\n",
    "    return text.encode('utf-16', 'surrogatepass').decode('utf-16')\n",
    "rating_list = []\n",
    "title_list = []\n",
    "price_list = []\n",
    "polarity_scores=[]\n",
    "for item in data:\n",
    "    if 'reviews' in item:\n",
    "        reviews = item['reviews']\n",
    "        for review in reviews:\n",
    "            clean_text = remove_surrogates(review)\n",
    "        polarity_scores.append(result(clean_text))\n",
    "    if 'price' in item:\n",
    "        price = item['price']\n",
    "        price_list.append(price)\n",
    "\n",
    "    if 'rating' in item:\n",
    "        rating = item['rating']\n",
    "        rating_list.append(rating)  \n",
    "    if 'title' in item:\n",
    "        title = item['title']\n",
    "        title_list.append(title)    \n",
    "\n",
    "\n",
    "            \n",
    "print(polarity_scores,price_list,rating_list,title_list)"
   ]
  },
  {
   "cell_type": "code",
   "execution_count": 32,
   "metadata": {},
   "outputs": [
    {
     "name": "stdout",
     "output_type": "stream",
     "text": [
      "[139999, 16999, 6999, 8499, 7699]\n"
     ]
    },
    {
     "ename": "IndexError",
     "evalue": "list index out of range",
     "output_type": "error",
     "traceback": [
      "\u001b[1;31m---------------------------------------------------------------------------\u001b[0m",
      "\u001b[1;31mIndexError\u001b[0m                                Traceback (most recent call last)",
      "Cell \u001b[1;32mIn[32], line 14\u001b[0m\n\u001b[0;32m      9\u001b[0m \u001b[38;5;28;01mfor\u001b[39;00m i \u001b[38;5;129;01min\u001b[39;00m \u001b[38;5;28mrange\u001b[39m(\u001b[38;5;28mlen\u001b[39m(title_list)):\n\u001b[0;32m     10\u001b[0m         rating \u001b[38;5;241m=\u001b[39m \u001b[38;5;28mfloat\u001b[39m(rating_list[i]\u001b[38;5;241m.\u001b[39msplit()[\u001b[38;5;241m0\u001b[39m])\n\u001b[0;32m     12\u001b[0m         result \u001b[38;5;241m=\u001b[39m (\u001b[38;5;241m0.4\u001b[39m \u001b[38;5;241m*\u001b[39m rating \u001b[38;5;241m-\u001b[39m\n\u001b[0;32m     13\u001b[0m                   \u001b[38;5;241m0.2\u001b[39m \u001b[38;5;241m*\u001b[39m (price_list_int[i] \u001b[38;5;241m-\u001b[39m min_price) \u001b[38;5;241m/\u001b[39m (max_price \u001b[38;5;241m-\u001b[39m min_price) \u001b[38;5;241m+\u001b[39m\n\u001b[1;32m---> 14\u001b[0m                   \u001b[38;5;241m0.4\u001b[39m \u001b[38;5;241m*\u001b[39m (\u001b[43mpolarity_scores\u001b[49m\u001b[43m[\u001b[49m\u001b[43mi\u001b[49m\u001b[43m]\u001b[49m[\u001b[38;5;241m2\u001b[39m] \u001b[38;5;241m-\u001b[39m polarity_scores[i][\u001b[38;5;241m0\u001b[39m]))\n\u001b[0;32m     16\u001b[0m         final_dict[title_list[i]] \u001b[38;5;241m=\u001b[39m result\n\u001b[0;32m     19\u001b[0m highest_key \u001b[38;5;241m=\u001b[39m \u001b[38;5;28;01mNone\u001b[39;00m\n",
      "\u001b[1;31mIndexError\u001b[0m: list index out of range"
     ]
    }
   ],
   "source": [
    "price_list_int = []\n",
    "for price in price_list:\n",
    "    price=int(price.replace(',', ''))\n",
    "    price_list_int.append(price)\n",
    "print(price_list_int)\n",
    "min_price = min(price_list_int)\n",
    "max_price = max(price_list_int)\n",
    "final_dict = {}\n",
    "for i in range(len(title_list)):\n",
    "        rating = float(rating_list[i].split()[0])\n",
    "\n",
    "        result = (0.4 * rating -\n",
    "                  0.2 * (price_list_int[i] - min_price) / (max_price - min_price) +\n",
    "                  0.4 * (polarity_scores[i][2] - polarity_scores[i][0]))\n",
    "        \n",
    "        final_dict[title_list[i]] = result\n",
    "\n",
    "\n",
    "highest_key = None\n",
    "highest_value = -100 \n",
    "\n",
    "for key, value in final_dict.items():\n",
    "    if value > highest_value:\n",
    "        highest_value = value\n",
    "        highest_key = key\n",
    "\n",
    "\n",
    "print(f\"The product with the highest score is: {highest_key} with a score of {highest_value}\")\n",
    "\n"
   ]
  },
  {
   "cell_type": "code",
   "execution_count": null,
   "metadata": {},
   "outputs": [],
   "source": []
  },
  {
   "cell_type": "code",
   "execution_count": null,
   "metadata": {},
   "outputs": [],
   "source": []
  }
 ],
 "metadata": {
  "kernelspec": {
   "display_name": "Python 3",
   "language": "python",
   "name": "python3"
  },
  "language_info": {
   "codemirror_mode": {
    "name": "ipython",
    "version": 3
   },
   "file_extension": ".py",
   "mimetype": "text/x-python",
   "name": "python",
   "nbconvert_exporter": "python",
   "pygments_lexer": "ipython3",
   "version": "3.11.7"
  }
 },
 "nbformat": 4,
 "nbformat_minor": 2
}
